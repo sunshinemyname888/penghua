{
 "cells": [
  {
   "cell_type": "markdown",
   "metadata": {},
   "source": [
    "# 函数"
   ]
  },
  {
   "cell_type": "markdown",
   "metadata": {},
   "source": [
    "## 函数的定义和调用"
   ]
  },
  {
   "cell_type": "markdown",
   "metadata": {},
   "source": [
    "### 概念"
   ]
  },
  {
   "cell_type": "raw",
   "metadata": {},
   "source": [
    "我们可以自己定义一个函数，但是需要遵循以下的规则：\n",
    "\n",
    "函数的代码块以def关键字开头，后接函数标识符名称和圆括号（）。\n",
    "圆括号用来存储要传入的参数和变量，这个参数可以是默认的也可以是自定义的。\n",
    "函数内容以冒号起始，并且有强制缩进。\n",
    "return[表达式]结束函数。选择性的返回一个值给对方调用。不带表达式的return相当于返回None。"
   ]
  },
  {
   "cell_type": "raw",
   "metadata": {},
   "source": [
    "定义函数的格式如下：\n",
    "\n",
    "def 函数名():\n",
    "    代码"
   ]
  },
  {
   "cell_type": "raw",
   "metadata": {},
   "source": [
    "如果在开发程序时，需要某块代码多次，但是为了提高编写的效率以及代码的重用\n",
    "所以把具有独立功能的代码块组织为一个小模块，这就是函数"
   ]
  },
  {
   "cell_type": "code",
   "execution_count": 3,
   "metadata": {},
   "outputs": [
    {
     "name": "stdout",
     "output_type": "stream",
     "text": [
      "------------------------------------\n",
      "         人生苦短，我用Python\n",
      "------------------------------------\n",
      "CDA数据分析师\n"
     ]
    }
   ],
   "source": [
    "# 定义一个函数，能够完成打印信息的功能，可以当成一个块\n",
    "def printInfo():\n",
    "    print ('------------------------------------')\n",
    "    print ('         人生苦短，我用Python')\n",
    "    print ('------------------------------------')\n",
    "    print('CDA数据分析师')\n",
    "printInfo()"
   ]
  },
  {
   "cell_type": "code",
   "execution_count": 4,
   "metadata": {},
   "outputs": [
    {
     "name": "stdout",
     "output_type": "stream",
     "text": [
      "李四\n",
      "年龄\n"
     ]
    }
   ],
   "source": [
    "def stu():  #函数的定义\n",
    "    print('李四')\n",
    "    print('年龄')\n",
    "stu()"
   ]
  },
  {
   "cell_type": "markdown",
   "metadata": {},
   "source": [
    "### 函数的文档说明"
   ]
  },
  {
   "cell_type": "code",
   "execution_count": 5,
   "metadata": {},
   "outputs": [],
   "source": [
    "def test(a,b):  \n",
    "    '''用来完成对2个数求和\n",
    "    参数:\n",
    "    a:我们的第一个参数用来相加\n",
    "    b:这是相加的第二个参数\n",
    "    return\n",
    "    很抱歉, 这个函数没有返回值'''\n",
    "    print(a+b)"
   ]
  },
  {
   "cell_type": "code",
   "execution_count": 6,
   "metadata": {},
   "outputs": [
    {
     "name": "stdout",
     "output_type": "stream",
     "text": [
      "3\n"
     ]
    }
   ],
   "source": [
    "test(1,2)"
   ]
  },
  {
   "cell_type": "code",
   "execution_count": 7,
   "metadata": {},
   "outputs": [
    {
     "name": "stdout",
     "output_type": "stream",
     "text": [
      "用来完成对2个数求和\n",
      "    参数:\n",
      "    a:我们的第一个参数用来相加\n",
      "    b:这是相加的第二个参数\n",
      "    return\n",
      "    很抱歉, 这个函数没有返回值\n"
     ]
    }
   ],
   "source": [
    "print(test.__doc__)"
   ]
  },
  {
   "cell_type": "markdown",
   "metadata": {},
   "source": [
    "## 函数的返回值"
   ]
  },
  {
   "cell_type": "markdown",
   "metadata": {},
   "source": [
    "### 单个返回值"
   ]
  },
  {
   "cell_type": "raw",
   "metadata": {},
   "source": [
    "调用函数，经过一系列的操作，最后要拿到一个明确的结果，则必须要有返回值\n",
    "通常有参函数需要有返回值，输入参数，经过计算，得到一个最终的结果"
   ]
  },
  {
   "cell_type": "code",
   "execution_count": 8,
   "metadata": {},
   "outputs": [
    {
     "data": {
      "text/plain": [
       "14"
      ]
     },
     "execution_count": 8,
     "metadata": {},
     "output_type": "execute_result"
    }
   ],
   "source": [
    "def xxx(x,y,z):\n",
    "    c = x**2+y**2+z**2\n",
    "    return c\n",
    "xxx(1,2,3)"
   ]
  },
  {
   "cell_type": "markdown",
   "metadata": {},
   "source": [
    "### 多个返回值"
   ]
  },
  {
   "cell_type": "code",
   "execution_count": 9,
   "metadata": {},
   "outputs": [
    {
     "data": {
      "text/plain": [
       "(4, 0)"
      ]
     },
     "execution_count": 9,
     "metadata": {},
     "output_type": "execute_result"
    }
   ],
   "source": [
    "def divid(a, b):\n",
    "    shang = a//b\n",
    "    yushu = a%b \n",
    "    return a, yushu\n",
    "divid(4,2)"
   ]
  },
  {
   "cell_type": "markdown",
   "metadata": {},
   "source": [
    "## 函数的参数"
   ]
  },
  {
   "cell_type": "markdown",
   "metadata": {},
   "source": [
    "### 函数的形参和实参"
   ]
  },
  {
   "attachments": {
    "image.png": {
     "image/png": "[encoded data removed]"
    }
   },
   "cell_type": "markdown",
   "metadata": {},
   "source": [
    "![image.png](attachment:image.png)"
   ]
  },
  {
   "cell_type": "raw",
   "metadata": {},
   "source": [
    "定义时小括号中的参数，用来接收参数用的，称为 “形参”\n",
    "\n",
    "调用时小括号中的参数，用来传递给函数用的，称为 “实参"
   ]
  },
  {
   "cell_type": "markdown",
   "metadata": {},
   "source": [
    "### 位置参数"
   ]
  },
  {
   "cell_type": "markdown",
   "metadata": {},
   "source": [
    "#### 定义"
   ]
  },
  {
   "cell_type": "raw",
   "metadata": {},
   "source": [
    "调用函数时，要按照函数设定的顺序依次传入的参数称为位置参数"
   ]
  },
  {
   "cell_type": "code",
   "execution_count": 10,
   "metadata": {},
   "outputs": [],
   "source": [
    "def x(a, b, c):\n",
    "    print(a)\n",
    "    print(b)\n",
    "    print(c)"
   ]
  },
  {
   "cell_type": "code",
   "execution_count": 11,
   "metadata": {},
   "outputs": [
    {
     "name": "stdout",
     "output_type": "stream",
     "text": [
      "1\n",
      "2\n",
      "3\n"
     ]
    }
   ],
   "source": [
    "x(1,2,3)"
   ]
  },
  {
   "cell_type": "markdown",
   "metadata": {},
   "source": [
    "### 默认参数"
   ]
  },
  {
   "cell_type": "raw",
   "metadata": {},
   "source": [
    "形参在定义函数的时候就已经为其赋值"
   ]
  },
  {
   "cell_type": "code",
   "execution_count": 12,
   "metadata": {},
   "outputs": [],
   "source": [
    "def info(name, age, course,country='中国'):\n",
    "    print(\"----注册学生信息------\")\n",
    "    print(\"姓名:\", name)\n",
    "    print(\"age:\", age)\n",
    "    print(\"国籍:\", country)\n",
    "    print(\"课程:\", course)"
   ]
  },
  {
   "cell_type": "code",
   "execution_count": 15,
   "metadata": {},
   "outputs": [
    {
     "name": "stdout",
     "output_type": "stream",
     "text": [
      "----注册学生信息------\n",
      "姓名: 张\n",
      "age: 23\n",
      "国籍: 中国\n",
      "课程: 英语\n"
     ]
    }
   ],
   "source": [
    "info('张',23,'英语')"
   ]
  },
  {
   "cell_type": "code",
   "execution_count": 16,
   "metadata": {},
   "outputs": [
    {
     "name": "stdout",
     "output_type": "stream",
     "text": [
      "----注册学生信息------\n",
      "姓名: 张三\n",
      "age: 23\n",
      "国籍: 美国\n",
      "课程: 数学\n"
     ]
    }
   ],
   "source": [
    "info('张三', 23,  '数学', '美国')  #传入的话就使用传入的值"
   ]
  },
  {
   "cell_type": "markdown",
   "metadata": {},
   "source": [
    "### 关键字参数"
   ]
  },
  {
   "cell_type": "raw",
   "metadata": {},
   "source": [
    "在函数调用阶段 按照 形参变量名 = value 的形式定义的实参\n",
    "\n",
    "    #无需按照位置为形参传值\n",
    "    #注意的问题：\n",
    "            #1. 关键字实参必须在位置实参右面\n",
    "            #2. 对同一个形参不能重复传值"
   ]
  },
  {
   "cell_type": "code",
   "execution_count": 17,
   "metadata": {},
   "outputs": [],
   "source": [
    "def info(name,age,course,country=\"中国\"):\n",
    "    print(\"----注册学生信息------\")\n",
    "    print(\"姓名:\",name)\n",
    "    print(\"age:\",age)\n",
    "    print(\"国籍:\",country)\n",
    "    print(\"课程:\",course)"
   ]
  },
  {
   "cell_type": "code",
   "execution_count": 18,
   "metadata": {},
   "outputs": [
    {
     "name": "stdout",
     "output_type": "stream",
     "text": [
      "----注册学生信息------\n",
      "姓名: 李四\n",
      "age: 32\n",
      "国籍: 中国\n",
      "课程: python\n"
     ]
    }
   ],
   "source": [
    "info(age=32,name='李四',course=\"python\")"
   ]
  },
  {
   "cell_type": "markdown",
   "metadata": {},
   "source": [
    "### 可变长参数"
   ]
  },
  {
   "cell_type": "raw",
   "metadata": {},
   "source": [
    "指的是实参值的个数不固定\n",
    "而实参有按位置和按关键字两种形式定义，针对这两种形式的可变长，形参对应有两种解决方案来完整地存放它们：\n",
    "分别是*args，**kwargs"
   ]
  },
  {
   "cell_type": "code",
   "execution_count": 19,
   "metadata": {},
   "outputs": [],
   "source": [
    "def info(name, age, *args):  # *args 会把多传入的参数变成一个元组形式\n",
    "    print(name, age, args)"
   ]
  },
  {
   "cell_type": "code",
   "execution_count": 20,
   "metadata": {},
   "outputs": [
    {
     "name": "stdout",
     "output_type": "stream",
     "text": [
      "张三 32 ('中国', '机器学习')\n"
     ]
    }
   ],
   "source": [
    "info(\"张三\", 32, \"中国\", \"机器学习\") "
   ]
  },
  {
   "cell_type": "code",
   "execution_count": 21,
   "metadata": {},
   "outputs": [],
   "source": [
    "def info(name,age, grade, *args,**kwargs):  # **kwargs 会把多传入的参数变成一个dict形式\n",
    "    print(name,age,grade,args,kwargs)"
   ]
  },
  {
   "cell_type": "code",
   "execution_count": 25,
   "metadata": {},
   "outputs": [
    {
     "name": "stdout",
     "output_type": "stream",
     "text": [
      "张三 32 中国 ('python',) {'sex': '男', 'province': '四川'}\n"
     ]
    }
   ],
   "source": [
    "info(\"张三\", 32, \"中国\",'python', sex=\"男\", province=\"四川\")"
   ]
  },
  {
   "attachments": {
    "image.png": {
     "image/png": "[encoded data removed]"
    }
   },
   "cell_type": "markdown",
   "metadata": {},
   "source": [
    "![image.png](attachment:image.png)"
   ]
  },
  {
   "cell_type": "code",
   "execution_count": 36,
   "metadata": {},
   "outputs": [],
   "source": [
    "def sum1(*x):\n",
    "    s=0\n",
    "    for i in x:\n",
    "        s+=i**2\n",
    "    print(s)"
   ]
  },
  {
   "cell_type": "code",
   "execution_count": 37,
   "metadata": {},
   "outputs": [
    {
     "name": "stdout",
     "output_type": "stream",
     "text": [
      "5\n"
     ]
    }
   ],
   "source": [
    "sum1(1,2)"
   ]
  },
  {
   "cell_type": "code",
   "execution_count": 38,
   "metadata": {},
   "outputs": [],
   "source": [
    "def sum2(a,b,*x):\n",
    "    s=0\n",
    "    for i in x:\n",
    "        s+=a**2+b**3+1/i\n",
    "    print(s)"
   ]
  },
  {
   "cell_type": "code",
   "execution_count": 39,
   "metadata": {},
   "outputs": [
    {
     "name": "stdout",
     "output_type": "stream",
     "text": [
      "9.333333333333334\n"
     ]
    }
   ],
   "source": [
    "sum2(1,2,3)"
   ]
  },
  {
   "cell_type": "markdown",
   "metadata": {},
   "source": [
    "## 函数的嵌套"
   ]
  },
  {
   "cell_type": "code",
   "execution_count": 40,
   "metadata": {},
   "outputs": [],
   "source": [
    "def testB():\n",
    "    print('---- testB start----')\n",
    "    print('这里是testB函数执行的代码...(省略)...')\n",
    "    print('---- testB end----')\n",
    "    \n",
    "def test1():\n",
    "    print('*'*100)\n",
    "\n",
    "def testA():\n",
    "    print('---- testA start----')\n",
    "    test1()\n",
    "    testB()\n",
    "    test1()\n",
    "    print('---- testA end----')"
   ]
  },
  {
   "cell_type": "code",
   "execution_count": 41,
   "metadata": {},
   "outputs": [
    {
     "name": "stdout",
     "output_type": "stream",
     "text": [
      "---- testA start----\n",
      "****************************************************************************************************\n",
      "---- testB start----\n",
      "这里是testB函数执行的代码...(省略)...\n",
      "---- testB end----\n",
      "****************************************************************************************************\n",
      "---- testA end----\n"
     ]
    }
   ],
   "source": [
    "testA()"
   ]
  },
  {
   "cell_type": "markdown",
   "metadata": {},
   "source": [
    "## 局部变量和全局变量"
   ]
  },
  {
   "cell_type": "markdown",
   "metadata": {},
   "source": [
    "### 定义"
   ]
  },
  {
   "cell_type": "raw",
   "metadata": {},
   "source": [
    "局部变量就是定义在函数内部的变量"
   ]
  },
  {
   "cell_type": "code",
   "execution_count": 42,
   "metadata": {},
   "outputs": [],
   "source": [
    "def test1():\n",
    "    a=300\n",
    "    b=500     #b也是函数内部直接定义，属于局部变量，只能在函数内部使用\n",
    "    print(a)"
   ]
  },
  {
   "cell_type": "code",
   "execution_count": 43,
   "metadata": {},
   "outputs": [
    {
     "name": "stdout",
     "output_type": "stream",
     "text": [
      "300\n"
     ]
    }
   ],
   "source": [
    "test1()"
   ]
  },
  {
   "cell_type": "raw",
   "metadata": {},
   "source": [
    "全局变量能在整个程序使用"
   ]
  },
  {
   "cell_type": "code",
   "execution_count": 44,
   "metadata": {},
   "outputs": [
    {
     "name": "stdout",
     "output_type": "stream",
     "text": [
      "300\n"
     ]
    }
   ],
   "source": [
    " # 定义全局变量\n",
    "a = 100\n",
    "\n",
    "def test1():   \n",
    "    print(a)\n",
    "a=300\n",
    "def test2():\n",
    "    print(a)\n",
    "\n",
    "# 调用函数\n",
    "test1()"
   ]
  },
  {
   "cell_type": "code",
   "execution_count": 45,
   "metadata": {},
   "outputs": [
    {
     "name": "stdout",
     "output_type": "stream",
     "text": [
      "300\n"
     ]
    }
   ],
   "source": [
    "test2()"
   ]
  },
  {
   "cell_type": "markdown",
   "metadata": {},
   "source": [
    "### 运用"
   ]
  },
  {
   "cell_type": "code",
   "execution_count": 46,
   "metadata": {},
   "outputs": [
    {
     "name": "stdout",
     "output_type": "stream",
     "text": [
      "test1中a是:  300\n",
      "test2中a是:  100\n",
      "100\n"
     ]
    }
   ],
   "source": [
    "# 定义全局变量\n",
    "a = 100\n",
    "def test1():\n",
    "    a = 300\n",
    "    print(\"test1中a是: \", a)\n",
    "def test2():\n",
    "    print(\"test2中a是: \", a)\n",
    "test1()\n",
    "test2()\n",
    "print(a)"
   ]
  },
  {
   "cell_type": "raw",
   "metadata": {},
   "source": [
    "在函数外边定义的变量叫做全局变量，函数内部定义的变量叫做局部变量\n",
    "全局变量能够在整个程序的所有地方使用，函数内部的局部变量只能在函数内部使用。\n",
    "如果在函数中修改全局变量，那么就需要使用global进行声明。\n",
    "如果全局变量的名字和局部变量的名字相同，则满足就近原则，现在函数内部寻找，如果没有就去函数的外部找。"
   ]
  },
  {
   "cell_type": "markdown",
   "metadata": {},
   "source": [
    "### 可变类型的全局变量"
   ]
  },
  {
   "cell_type": "code",
   "execution_count": 47,
   "metadata": {},
   "outputs": [
    {
     "name": "stdout",
     "output_type": "stream",
     "text": [
      "2\n",
      "2\n"
     ]
    }
   ],
   "source": [
    "a = 1\n",
    "def f():\n",
    "    global a\n",
    "    a = a+1\n",
    "    print (a)\n",
    "\n",
    "f()\n",
    "print(a)"
   ]
  },
  {
   "cell_type": "markdown",
   "metadata": {},
   "source": [
    "## 常用函数"
   ]
  },
  {
   "cell_type": "markdown",
   "metadata": {},
   "source": [
    "### len()函数"
   ]
  },
  {
   "cell_type": "code",
   "execution_count": 48,
   "metadata": {},
   "outputs": [
    {
     "data": {
      "text/plain": [
       "11"
      ]
     },
     "execution_count": 48,
     "metadata": {},
     "output_type": "execute_result"
    }
   ],
   "source": [
    "len('hello world')"
   ]
  },
  {
   "cell_type": "code",
   "execution_count": 49,
   "metadata": {},
   "outputs": [
    {
     "data": {
      "text/plain": [
       "6"
      ]
     },
     "execution_count": 49,
     "metadata": {},
     "output_type": "execute_result"
    }
   ],
   "source": [
    "len([1,2, 3, 4, 5, 6])"
   ]
  },
  {
   "cell_type": "code",
   "execution_count": 50,
   "metadata": {},
   "outputs": [
    {
     "data": {
      "text/plain": [
       "7"
      ]
     },
     "execution_count": 50,
     "metadata": {},
     "output_type": "execute_result"
    }
   ],
   "source": [
    "len((1, 2, 3, 4, 5, 6, 7))"
   ]
  },
  {
   "cell_type": "code",
   "execution_count": 51,
   "metadata": {},
   "outputs": [
    {
     "data": {
      "text/plain": [
       "2"
      ]
     },
     "execution_count": 51,
     "metadata": {},
     "output_type": "execute_result"
    }
   ],
   "source": [
    "len({'1':123, '2':456})"
   ]
  },
  {
   "cell_type": "code",
   "execution_count": 52,
   "metadata": {},
   "outputs": [
    {
     "data": {
      "text/plain": [
       "3"
      ]
     },
     "execution_count": 52,
     "metadata": {},
     "output_type": "execute_result"
    }
   ],
   "source": [
    "len({1, 2, 3})"
   ]
  },
  {
   "cell_type": "markdown",
   "metadata": {},
   "source": [
    "### max()函数"
   ]
  },
  {
   "cell_type": "code",
   "execution_count": 53,
   "metadata": {},
   "outputs": [
    {
     "data": {
      "text/plain": [
       "'5'"
      ]
     },
     "execution_count": 53,
     "metadata": {},
     "output_type": "execute_result"
    }
   ],
   "source": [
    "max('12345')"
   ]
  },
  {
   "cell_type": "code",
   "execution_count": 54,
   "metadata": {},
   "outputs": [
    {
     "data": {
      "text/plain": [
       "3"
      ]
     },
     "execution_count": 54,
     "metadata": {},
     "output_type": "execute_result"
    }
   ],
   "source": [
    "max([1, 2, 3])"
   ]
  },
  {
   "cell_type": "markdown",
   "metadata": {},
   "source": [
    "### min()函数"
   ]
  },
  {
   "cell_type": "markdown",
   "metadata": {},
   "source": [
    "### 关于函数的作用域的问题"
   ]
  },
  {
   "cell_type": "code",
   "execution_count": 55,
   "metadata": {},
   "outputs": [],
   "source": [
    "#定义阶段\n",
    "def f1():\n",
    "    def f2():\n",
    "        print('from f2')\n",
    "    f2()"
   ]
  },
  {
   "cell_type": "code",
   "execution_count": 56,
   "metadata": {},
   "outputs": [
    {
     "name": "stdout",
     "output_type": "stream",
     "text": [
      "from f2\n"
     ]
    }
   ],
   "source": [
    "f1()"
   ]
  },
  {
   "cell_type": "code",
   "execution_count": 57,
   "metadata": {},
   "outputs": [],
   "source": [
    "def f1():\n",
    "    def f2():\n",
    "        def f3():\n",
    "            print('from f3')\n",
    "        f3()\n",
    "    f2()"
   ]
  },
  {
   "cell_type": "code",
   "execution_count": 58,
   "metadata": {},
   "outputs": [
    {
     "name": "stdout",
     "output_type": "stream",
     "text": [
      "from f3\n"
     ]
    }
   ],
   "source": [
    "f1()"
   ]
  },
  {
   "cell_type": "code",
   "execution_count": 59,
   "metadata": {},
   "outputs": [
    {
     "ename": "NameError",
     "evalue": "name 'f2' is not defined",
     "output_type": "error",
     "traceback": [
      "\u001b[1;31m---------------------------------------------------------------------------\u001b[0m",
      "\u001b[1;31mNameError\u001b[0m                                 Traceback (most recent call last)",
      "\u001b[1;32m<ipython-input-59-55649989190d>\u001b[0m in \u001b[0;36m<module>\u001b[1;34m\u001b[0m\n\u001b[1;32m----> 1\u001b[1;33m \u001b[0mf2\u001b[0m\u001b[1;33m(\u001b[0m\u001b[1;33m)\u001b[0m\u001b[1;33m\u001b[0m\u001b[1;33m\u001b[0m\u001b[0m\n\u001b[0m",
      "\u001b[1;31mNameError\u001b[0m: name 'f2' is not defined"
     ]
    }
   ],
   "source": [
    "f2()"
   ]
  },
  {
   "cell_type": "code",
   "execution_count": 60,
   "metadata": {},
   "outputs": [
    {
     "ename": "NameError",
     "evalue": "name 'f3' is not defined",
     "output_type": "error",
     "traceback": [
      "\u001b[1;31m---------------------------------------------------------------------------\u001b[0m",
      "\u001b[1;31mNameError\u001b[0m                                 Traceback (most recent call last)",
      "\u001b[1;32m<ipython-input-60-c1cd3a33b4be>\u001b[0m in \u001b[0;36m<module>\u001b[1;34m\u001b[0m\n\u001b[1;32m----> 1\u001b[1;33m \u001b[0mf3\u001b[0m\u001b[1;33m(\u001b[0m\u001b[1;33m)\u001b[0m\u001b[1;33m\u001b[0m\u001b[1;33m\u001b[0m\u001b[0m\n\u001b[0m",
      "\u001b[1;31mNameError\u001b[0m: name 'f3' is not defined"
     ]
    }
   ],
   "source": [
    "f3()"
   ]
  },
  {
   "cell_type": "raw",
   "metadata": {},
   "source": [
    "其原因在于，f2(), f3()都是定义在函数f1()内部的，只能在函数f1()内部使用。\n",
    "你也可以这样认为，定义函数其实就是在定义一个变量，既然在函数内部定义，那么就是一个局部变量\n",
    "这样的话在函数外部是不起作用的，所以报错提示我们说\"is not defined\""
   ]
  },
  {
   "cell_type": "markdown",
   "metadata": {},
   "source": [
    "## 练习"
   ]
  },
  {
   "cell_type": "raw",
   "metadata": {},
   "source": [
    "编写一个函数,将发出的信息转化为暗语输出，比如，发送的信息中有2,就替换Z，表规则如下：\n"
   ]
  },
  {
   "attachments": {
    "image.png": {
     "image/png": "[encoded data removed]"
    }
   },
   "cell_type": "markdown",
   "metadata": {},
   "source": [
    "![image.png](attachment:image.png)"
   ]
  },
  {
   "cell_type": "code",
   "execution_count": 62,
   "metadata": {},
   "outputs": [
    {
     "name": "stdout",
     "output_type": "stream",
     "text": [
      "请输入信息：0124hidnv3%by\n",
      "OIZYhidnvE%by\n"
     ]
    }
   ],
   "source": [
    "a='0123456789'\n",
    "b='OIZEYSGLBP'\n",
    "c=input(\"请输入信息：\")\n",
    "d=list(c)\n",
    "for i in d:\n",
    "    if i in a:\n",
    "        a_=a.index(i)\n",
    "        d_=d.index(i)\n",
    "        d[d_]=b[a_]\n",
    "print(''.join(d))        "
   ]
  },
  {
   "cell_type": "raw",
   "metadata": {},
   "source": [
    "定义一个函数,让用户输入自己的年龄,打印出用户的出生年"
   ]
  },
  {
   "cell_type": "code",
   "execution_count": 63,
   "metadata": {},
   "outputs": [
    {
     "name": "stdout",
     "output_type": "stream",
     "text": [
      "请输入你的年龄：28\n",
      "用户的出生年： 1991\n"
     ]
    }
   ],
   "source": [
    "a=int(input(\"请输入你的年龄：\"))\n",
    "b=2019-a\n",
    "print(\"用户的出生年：\",b)"
   ]
  },
  {
   "cell_type": "raw",
   "metadata": {},
   "source": [
    "2  定义一个函数,要求用户输入 姓名a 年龄b 学历c ,并打印"
   ]
  },
  {
   "cell_type": "code",
   "execution_count": 64,
   "metadata": {},
   "outputs": [
    {
     "name": "stdout",
     "output_type": "stream",
     "text": [
      "请输入你的姓名：penghua\n",
      "请输入年龄：28\n",
      "请输入学历：本科\n",
      "penghua 28 本科\n"
     ]
    }
   ],
   "source": [
    "a=input(\"请输入你的姓名：\")\n",
    "b=input(\"请输入年龄：\")\n",
    "c=input(\"请输入学历：\")\n",
    "print(a,b,c)"
   ]
  },
  {
   "cell_type": "raw",
   "metadata": {},
   "source": [
    "定义一个函数,要求用户输入三个整数,打印出最大值和最小值"
   ]
  },
  {
   "cell_type": "code",
   "execution_count": 70,
   "metadata": {},
   "outputs": [
    {
     "name": "stdout",
     "output_type": "stream",
     "text": [
      "请输入整数：34\n",
      "请输入整数：23\n",
      "请输入整数：45\n",
      "[34, 23, 45]\n",
      "[23, 34, 45]\n",
      "最大值： 45\n",
      "最小值： 23\n"
     ]
    }
   ],
   "source": [
    "a=int(input(\"请输入整数：\"))\n",
    "b=int(input(\"请输入整数：\"))\n",
    "c=int(input(\"请输入整数：\"))\n",
    "d=list([a,b,c])\n",
    "print(d)\n",
    "d.sort()\n",
    "print(d)\n",
    "print(\"最大值：\",d[-1])\n",
    "print(\"最小值：\",d[0])"
   ]
  },
  {
   "cell_type": "code",
   "execution_count": null,
   "metadata": {},
   "outputs": [],
   "source": []
  }
 ],
 "metadata": {
  "kernelspec": {
   "display_name": "Python 3",
   "language": "python",
   "name": "python3"
  },
  "language_info": {
   "codemirror_mode": {
    "name": "ipython",
    "version": 3
   },
   "file_extension": ".py",
   "mimetype": "text/x-python",
   "name": "python",
   "nbconvert_exporter": "python",
   "pygments_lexer": "ipython3",
   "version": "3.7.3"
  },
  "toc": {
   "base_numbering": 1,
   "nav_menu": {},
   "number_sections": true,
   "sideBar": true,
   "skip_h1_title": false,
   "title_cell": "Table of Contents",
   "title_sidebar": "Contents",
   "toc_cell": false,
   "toc_position": {},
   "toc_section_display": true,
   "toc_window_display": true
  }
 },
 "nbformat": 4,
 "nbformat_minor": 2
}
